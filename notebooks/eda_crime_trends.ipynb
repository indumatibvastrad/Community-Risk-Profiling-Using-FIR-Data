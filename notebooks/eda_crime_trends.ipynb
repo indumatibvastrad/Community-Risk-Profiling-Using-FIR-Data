{
 "cells": [
  {
   "cell_type": "markdown",
   "id": "ac1ce601",
   "metadata": {},
   "source": [
    "# Exploratory Data Analysis: Crime Trends by Year and Category\n"
   ]
  },
  {
   "cell_type": "markdown",
   "id": "61c61bd2",
   "metadata": {},
   "source": [
    "### Analysis of Crime Data (2001-2014)\n",
    "\n",
    "In this notebook, we will analyze crime data from three datasets spanning the years 2001 to 2014. The datasets include:\n",
    "\n",
    "1. **2001-2012 Crime Data**: District-wise crimes committed under IPC (Indian Penal Code) from 2001 to 2012.\n",
    "2. **2013 Crime Data**: District-wise crimes committed under IPC for the year 2013.\n",
    "3. **2014 Crime Data**: District-wise crimes committed under IPC for the year 2014.\n",
    "\n",
    "These datasets have been combined into a single dataframe for a comprehensive analysis. The goal is to identify prevalent crime types and trends over the years. Data cleaning, normalization, and handling of missing values have been performed to ensure consistency and accuracy in the analysis.\n"
   ]
  },
  {
   "cell_type": "markdown",
   "id": "3639b45c",
   "metadata": {},
   "source": [
    "#### **Notebook Structure**\n",
    "\n",
    "1. Introduction\n",
    "2. Dataset Description\n",
    "3. Data Preprocessing\n",
    "4. Exploratory Analysis\n",
    "    - Overall crime trends\n",
    "    - Crime type breakdown\n",
    "    - State-wise distribution\n",
    "    - Focused crime category analysis\n",
    "5. Key Insights"
   ]
  },
  {
   "cell_type": "markdown",
   "id": "6208bcea",
   "metadata": {},
   "source": [
    "### Preprocessing"
   ]
  },
  {
   "cell_type": "code",
   "execution_count": null,
   "id": "401b852e",
   "metadata": {},
   "outputs": [],
   "source": [
    "# pandas\n",
    "# matplotlib\n",
    "# seaborn\n",
    "# plotly\n",
    "# scikit-learn\n",
    "# streamlit\n",
    "# geopandas\n",
    "# ipykernel # Needed only for notebook"
   ]
  },
  {
   "cell_type": "code",
   "execution_count": 2,
   "id": "e18b1cea",
   "metadata": {},
   "outputs": [],
   "source": [
    "# pip install -r requirements.txt\n",
    "\n",
    "import pandas as pd\n",
    "\n",
    "# Load datasets\n",
    "df_2001_2012 = pd.read_csv('/Users/admin/Desktop/Crime data POC/Community-Risk-Profiling-Using-FIR-Data/dataset/State-wise data from 2001 is classified according to 40+factors/crime/01_District_wise_crimes_committed_IPC_2001_2012.csv')\n",
    "df_2013 = pd.read_csv('/Users/admin/Desktop/Crime data POC/Community-Risk-Profiling-Using-FIR-Data/dataset/State-wise data from 2001 is classified according to 40+factors/crime/01_District_wise_crimes_committed_IPC_2013.csv')\n",
    "df_2014 = pd.read_csv('/Users/admin/Desktop/Crime data POC/Community-Risk-Profiling-Using-FIR-Data/dataset/State-wise data from 2001 is classified according to 40+factors/crime/01_District_wise_crimes_committed_IPC_2014.csv')\n",
    "\n",
    "# Combine into one\n",
    "df_all_years = pd.concat([df_2001_2012, df_2013, df_2014], ignore_index=True)"
   ]
  },
  {
   "cell_type": "code",
   "execution_count": 3,
   "id": "016257da",
   "metadata": {},
   "outputs": [
    {
     "data": {
      "text/html": [
       "<div>\n",
       "<style scoped>\n",
       "    .dataframe tbody tr th:only-of-type {\n",
       "        vertical-align: middle;\n",
       "    }\n",
       "\n",
       "    .dataframe tbody tr th {\n",
       "        vertical-align: top;\n",
       "    }\n",
       "\n",
       "    .dataframe thead th {\n",
       "        text-align: right;\n",
       "    }\n",
       "</style>\n",
       "<table border=\"1\" class=\"dataframe\">\n",
       "  <thead>\n",
       "    <tr style=\"text-align: right;\">\n",
       "      <th></th>\n",
       "      <th>STATE/UT</th>\n",
       "      <th>DISTRICT</th>\n",
       "      <th>YEAR</th>\n",
       "      <th>MURDER</th>\n",
       "      <th>ATTEMPT TO MURDER</th>\n",
       "      <th>CULPABLE HOMICIDE NOT AMOUNTING TO MURDER</th>\n",
       "      <th>RAPE</th>\n",
       "      <th>CUSTODIAL RAPE</th>\n",
       "      <th>OTHER RAPE</th>\n",
       "      <th>KIDNAPPING &amp; ABDUCTION</th>\n",
       "      <th>...</th>\n",
       "      <th>Offences promoting enmity between different groups</th>\n",
       "      <th>Promoting enmity between different groups</th>\n",
       "      <th>Imputation, assertions prejudicial to national integration</th>\n",
       "      <th>Extortion</th>\n",
       "      <th>Disclosure of Identity of Victims</th>\n",
       "      <th>Incidence of Rash Driving</th>\n",
       "      <th>HumanTrafficking</th>\n",
       "      <th>Unnatural Offence</th>\n",
       "      <th>Other IPC crimes</th>\n",
       "      <th>Total Cognizable IPC crimes</th>\n",
       "    </tr>\n",
       "  </thead>\n",
       "  <tbody>\n",
       "    <tr>\n",
       "      <th>0</th>\n",
       "      <td>ANDHRA PRADESH</td>\n",
       "      <td>ADILABAD</td>\n",
       "      <td>2001.0</td>\n",
       "      <td>101.0</td>\n",
       "      <td>60.0</td>\n",
       "      <td>17.0</td>\n",
       "      <td>50.0</td>\n",
       "      <td>0.0</td>\n",
       "      <td>50.0</td>\n",
       "      <td>46.0</td>\n",
       "      <td>...</td>\n",
       "      <td>NaN</td>\n",
       "      <td>NaN</td>\n",
       "      <td>NaN</td>\n",
       "      <td>NaN</td>\n",
       "      <td>NaN</td>\n",
       "      <td>NaN</td>\n",
       "      <td>NaN</td>\n",
       "      <td>NaN</td>\n",
       "      <td>NaN</td>\n",
       "      <td>NaN</td>\n",
       "    </tr>\n",
       "    <tr>\n",
       "      <th>1</th>\n",
       "      <td>ANDHRA PRADESH</td>\n",
       "      <td>ANANTAPUR</td>\n",
       "      <td>2001.0</td>\n",
       "      <td>151.0</td>\n",
       "      <td>125.0</td>\n",
       "      <td>1.0</td>\n",
       "      <td>23.0</td>\n",
       "      <td>0.0</td>\n",
       "      <td>23.0</td>\n",
       "      <td>53.0</td>\n",
       "      <td>...</td>\n",
       "      <td>NaN</td>\n",
       "      <td>NaN</td>\n",
       "      <td>NaN</td>\n",
       "      <td>NaN</td>\n",
       "      <td>NaN</td>\n",
       "      <td>NaN</td>\n",
       "      <td>NaN</td>\n",
       "      <td>NaN</td>\n",
       "      <td>NaN</td>\n",
       "      <td>NaN</td>\n",
       "    </tr>\n",
       "    <tr>\n",
       "      <th>2</th>\n",
       "      <td>ANDHRA PRADESH</td>\n",
       "      <td>CHITTOOR</td>\n",
       "      <td>2001.0</td>\n",
       "      <td>101.0</td>\n",
       "      <td>57.0</td>\n",
       "      <td>2.0</td>\n",
       "      <td>27.0</td>\n",
       "      <td>0.0</td>\n",
       "      <td>27.0</td>\n",
       "      <td>59.0</td>\n",
       "      <td>...</td>\n",
       "      <td>NaN</td>\n",
       "      <td>NaN</td>\n",
       "      <td>NaN</td>\n",
       "      <td>NaN</td>\n",
       "      <td>NaN</td>\n",
       "      <td>NaN</td>\n",
       "      <td>NaN</td>\n",
       "      <td>NaN</td>\n",
       "      <td>NaN</td>\n",
       "      <td>NaN</td>\n",
       "    </tr>\n",
       "    <tr>\n",
       "      <th>3</th>\n",
       "      <td>ANDHRA PRADESH</td>\n",
       "      <td>CUDDAPAH</td>\n",
       "      <td>2001.0</td>\n",
       "      <td>80.0</td>\n",
       "      <td>53.0</td>\n",
       "      <td>1.0</td>\n",
       "      <td>20.0</td>\n",
       "      <td>0.0</td>\n",
       "      <td>20.0</td>\n",
       "      <td>25.0</td>\n",
       "      <td>...</td>\n",
       "      <td>NaN</td>\n",
       "      <td>NaN</td>\n",
       "      <td>NaN</td>\n",
       "      <td>NaN</td>\n",
       "      <td>NaN</td>\n",
       "      <td>NaN</td>\n",
       "      <td>NaN</td>\n",
       "      <td>NaN</td>\n",
       "      <td>NaN</td>\n",
       "      <td>NaN</td>\n",
       "    </tr>\n",
       "    <tr>\n",
       "      <th>4</th>\n",
       "      <td>ANDHRA PRADESH</td>\n",
       "      <td>EAST GODAVARI</td>\n",
       "      <td>2001.0</td>\n",
       "      <td>82.0</td>\n",
       "      <td>67.0</td>\n",
       "      <td>1.0</td>\n",
       "      <td>23.0</td>\n",
       "      <td>0.0</td>\n",
       "      <td>23.0</td>\n",
       "      <td>49.0</td>\n",
       "      <td>...</td>\n",
       "      <td>NaN</td>\n",
       "      <td>NaN</td>\n",
       "      <td>NaN</td>\n",
       "      <td>NaN</td>\n",
       "      <td>NaN</td>\n",
       "      <td>NaN</td>\n",
       "      <td>NaN</td>\n",
       "      <td>NaN</td>\n",
       "      <td>NaN</td>\n",
       "      <td>NaN</td>\n",
       "    </tr>\n",
       "  </tbody>\n",
       "</table>\n",
       "<p>5 rows × 124 columns</p>\n",
       "</div>"
      ],
      "text/plain": [
       "         STATE/UT       DISTRICT    YEAR  MURDER  ATTEMPT TO MURDER  \\\n",
       "0  ANDHRA PRADESH       ADILABAD  2001.0   101.0               60.0   \n",
       "1  ANDHRA PRADESH      ANANTAPUR  2001.0   151.0              125.0   \n",
       "2  ANDHRA PRADESH       CHITTOOR  2001.0   101.0               57.0   \n",
       "3  ANDHRA PRADESH       CUDDAPAH  2001.0    80.0               53.0   \n",
       "4  ANDHRA PRADESH  EAST GODAVARI  2001.0    82.0               67.0   \n",
       "\n",
       "   CULPABLE HOMICIDE NOT AMOUNTING TO MURDER  RAPE  CUSTODIAL RAPE  \\\n",
       "0                                       17.0  50.0             0.0   \n",
       "1                                        1.0  23.0             0.0   \n",
       "2                                        2.0  27.0             0.0   \n",
       "3                                        1.0  20.0             0.0   \n",
       "4                                        1.0  23.0             0.0   \n",
       "\n",
       "   OTHER RAPE  KIDNAPPING & ABDUCTION  ...  \\\n",
       "0        50.0                    46.0  ...   \n",
       "1        23.0                    53.0  ...   \n",
       "2        27.0                    59.0  ...   \n",
       "3        20.0                    25.0  ...   \n",
       "4        23.0                    49.0  ...   \n",
       "\n",
       "   Offences promoting enmity between different groups  \\\n",
       "0                                                NaN    \n",
       "1                                                NaN    \n",
       "2                                                NaN    \n",
       "3                                                NaN    \n",
       "4                                                NaN    \n",
       "\n",
       "   Promoting enmity between different groups  \\\n",
       "0                                        NaN   \n",
       "1                                        NaN   \n",
       "2                                        NaN   \n",
       "3                                        NaN   \n",
       "4                                        NaN   \n",
       "\n",
       "   Imputation, assertions prejudicial to national integration  Extortion  \\\n",
       "0                                                NaN                 NaN   \n",
       "1                                                NaN                 NaN   \n",
       "2                                                NaN                 NaN   \n",
       "3                                                NaN                 NaN   \n",
       "4                                                NaN                 NaN   \n",
       "\n",
       "   Disclosure of Identity of Victims  Incidence of Rash Driving  \\\n",
       "0                                NaN                        NaN   \n",
       "1                                NaN                        NaN   \n",
       "2                                NaN                        NaN   \n",
       "3                                NaN                        NaN   \n",
       "4                                NaN                        NaN   \n",
       "\n",
       "   HumanTrafficking  Unnatural Offence  Other IPC crimes  \\\n",
       "0               NaN                NaN               NaN   \n",
       "1               NaN                NaN               NaN   \n",
       "2               NaN                NaN               NaN   \n",
       "3               NaN                NaN               NaN   \n",
       "4               NaN                NaN               NaN   \n",
       "\n",
       "   Total Cognizable IPC crimes  \n",
       "0                          NaN  \n",
       "1                          NaN  \n",
       "2                          NaN  \n",
       "3                          NaN  \n",
       "4                          NaN  \n",
       "\n",
       "[5 rows x 124 columns]"
      ]
     },
     "execution_count": 3,
     "metadata": {},
     "output_type": "execute_result"
    }
   ],
   "source": [
    "df_all_years.head()"
   ]
  },
  {
   "cell_type": "code",
   "execution_count": 4,
   "id": "d646d1d7",
   "metadata": {},
   "outputs": [
    {
     "name": "stdout",
     "output_type": "stream",
     "text": [
      "Number of columns: 124\n"
     ]
    }
   ],
   "source": [
    "print(\"Number of columns:\", len(df_all_years.columns))\n"
   ]
  },
  {
   "cell_type": "code",
   "execution_count": null,
   "id": "c56b54cc",
   "metadata": {},
   "outputs": [],
   "source": [
    "# Clean columns, handle NaNs, normalize text"
   ]
  },
  {
   "cell_type": "code",
   "execution_count": 4,
   "id": "942a830b",
   "metadata": {},
   "outputs": [
    {
     "name": "stdout",
     "output_type": "stream",
     "text": [
      "2001–2012 columns: 33\n",
      "2013 columns: 33\n",
      "2014 columns: 91\n"
     ]
    }
   ],
   "source": [
    "print(\"2001–2012 columns:\", len(df_2001_2012.columns))\n",
    "print(\"2013 columns:\", len(df_2013.columns))\n",
    "print(\"2014 columns:\", len(df_2014.columns))\n"
   ]
  },
  {
   "cell_type": "markdown",
   "id": "c6bd2e44",
   "metadata": {},
   "source": [
    "### Analysis"
   ]
  },
  {
   "cell_type": "markdown",
   "id": "fffd5af5",
   "metadata": {},
   "source": [
    "##### 📊 A. Identify Top Crime Types\n",
    "- Group by Crime Head or similar column:"
   ]
  },
  {
   "cell_type": "code",
   "execution_count": null,
   "id": "0deec5fc",
   "metadata": {},
   "outputs": [],
   "source": []
  },
  {
   "cell_type": "markdown",
   "id": "bf0d164d",
   "metadata": {},
   "source": [
    "#### 📈 B. Trend Over Time\n",
    "- Group by year\n",
    "\n"
   ]
  },
  {
   "cell_type": "code",
   "execution_count": null,
   "id": "4963410d",
   "metadata": {},
   "outputs": [],
   "source": []
  },
  {
   "cell_type": "code",
   "execution_count": null,
   "id": "2b658cab",
   "metadata": {},
   "outputs": [],
   "source": []
  },
  {
   "cell_type": "markdown",
   "id": "17235f0c",
   "metadata": {},
   "source": [
    "####  🧭 C. Crime by State (or District)"
   ]
  },
  {
   "cell_type": "code",
   "execution_count": null,
   "id": "362336c6",
   "metadata": {},
   "outputs": [],
   "source": []
  },
  {
   "cell_type": "markdown",
   "id": "98c8e47b",
   "metadata": {},
   "source": [
    "#### 🟠 D. Specific Crime Trend (e.g., Rape or Theft)"
   ]
  },
  {
   "cell_type": "markdown",
   "id": "f19b2cce",
   "metadata": {},
   "source": []
  }
 ],
 "metadata": {
  "kernelspec": {
   "display_name": "fir_venv",
   "language": "python",
   "name": "python3"
  },
  "language_info": {
   "codemirror_mode": {
    "name": "ipython",
    "version": 3
   },
   "file_extension": ".py",
   "mimetype": "text/x-python",
   "name": "python",
   "nbconvert_exporter": "python",
   "pygments_lexer": "ipython3",
   "version": "3.11.11"
  }
 },
 "nbformat": 4,
 "nbformat_minor": 5
}
